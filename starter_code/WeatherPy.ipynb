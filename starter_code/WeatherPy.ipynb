{
 "cells": [
  {
   "cell_type": "markdown",
   "metadata": {},
   "source": [
    "# WeatherPy\n",
    "----\n",
    "\n",
    "#### Note\n",
    "* Instructions have been included for each segment. You do not have to follow them exactly, but they are included to help you think through the steps."
   ]
  },
  {
   "cell_type": "code",
   "execution_count": 4,
   "metadata": {},
   "outputs": [
    {
     "name": "stdout",
     "output_type": "stream",
     "text": [
      "Requirement already satisfied: citipy in c:\\users\\smsco\\anaconda3\\lib\\site-packages (0.0.5)\n",
      "Requirement already satisfied: kdtree>=0.12 in c:\\users\\smsco\\anaconda3\\lib\\site-packages (from citipy) (0.16)\n",
      "Note: you may need to restart the kernel to use updated packages.\n"
     ]
    }
   ],
   "source": [
    "pip install citipy"
   ]
  },
  {
   "cell_type": "code",
   "execution_count": 2,
   "metadata": {
    "scrolled": true
   },
   "outputs": [],
   "source": [
    "# Dependencies\n",
    "import requests\n",
    "import json\n",
    "# from api_keys import weather_api_key\n",
    "import matplotlib.pyplot as plt\n",
    "import pandas as pd\n",
    "import scipy.stats as st\n",
    "import numpy as np\n",
    "from citipy import citipy\n",
    "from pprint import pprint\n",
    "\n",
    "weather_api_key = \"2fa22668358e341c73c3ca87620b204b\"\n",
    "\n",
    "# Save config information.\n",
    "url = \"http://api.openweathermap.org/data/2.5/weather?\""
   ]
  },
  {
   "cell_type": "markdown",
   "metadata": {},
   "source": [
    "## Generate Cities List"
   ]
  },
  {
   "cell_type": "code",
   "execution_count": 4,
   "metadata": {},
   "outputs": [
    {
     "data": {
      "text/plain": [
       "611"
      ]
     },
     "execution_count": 4,
     "metadata": {},
     "output_type": "execute_result"
    }
   ],
   "source": [
    "cities = []\n",
    "\n",
    "lat = np.random.uniform(-90, 90, size = 1500)\n",
    "lng = np.random.uniform(-180, 180, size = 1500)\n",
    "\n",
    "for x in range (0, 1500):\n",
    "    city = citipy.nearest_city(lat[x], lng[x])\n",
    "    cities.append(city.city_name)\n",
    "\n",
    "cities = list(set(cities))\n",
    "\n",
    "len(cities)\n"
   ]
  },
  {
   "cell_type": "markdown",
   "metadata": {},
   "source": [
    "### Perform API Calls\n",
    "* Perform a weather check on each city using a series of successive API calls.\n",
    "* Include a print log of each city as it'sbeing processed (with the city number and city name).\n"
   ]
  },
  {
   "cell_type": "code",
   "execution_count": 33,
   "metadata": {
    "scrolled": true
   },
   "outputs": [
    {
     "name": "stdout",
     "output_type": "stream",
     "text": [
      "Retrieving data for 1 - Codrington\n",
      "Retrieving data for 3 - Sept-Îles\n",
      "Retrieving data for 4 - Takoradze\n",
      "Retrieving data for 5 - Zhicheng\n",
      "Retrieving data for 6 - Kavaratti\n",
      "Retrieving data for 7 - Grindavik\n",
      "Retrieving data for 8 - Chapais\n",
      "Retrieving data for 9 - Comodoro Rivadavia\n",
      "Retrieving data for 10 - Esmeraldas\n",
      "Retrieving data for 12 - Östersund\n",
      "Retrieving data for 13 - Pervomayskoye\n",
      "Retrieving data for 14 - Lismore\n",
      "Retrieving data for 15 - Aklavik\n",
      "Retrieving data for 16 - Borba\n",
      "Retrieving data for 17 - Mehamn\n",
      "Retrieving data for 18 - Thompson\n",
      "Retrieving data for 19 - Hearst\n",
      "Retrieving data for 20 - Ngunguru\n",
      "Retrieving data for 21 - Shelburne\n",
      "Retrieving data for 22 - Saint Andrews\n",
      "Retrieving data for 23 - Flin Flon\n",
      "Retrieving data for 24 - Kruisfontein\n",
      "Retrieving data for 25 - Verkhnetulomskiy\n",
      "Retrieving data for 26 - Guerrero Negro\n",
      "Retrieving data for 27 - Esim\n",
      "Retrieving data for 28 - Batemans Bay\n",
      "Retrieving data for 29 - Dunda\n",
      "Retrieving data for 30 - Deputatsky\n",
      "Retrieving data for 31 - Najrān\n",
      "Retrieving data for 32 - Amapá\n",
      "Retrieving data for 33 - Mehrān\n",
      "Retrieving data for 34 - Doctor Juan Manuel Frutos\n",
      "Retrieving data for 35 - Brenham\n",
      "Retrieving data for 36 - Tautira\n",
      "Retrieving data for 37 - Talas\n",
      "Retrieving data for 38 - Zreče\n",
      "Retrieving data for 39 - New Norfolk\n",
      "Retrieving data for 40 - Camopi\n",
      "Retrieving data for 41 - Barra\n",
      "Retrieving data for 42 - Ponca City\n",
      "Retrieving data for 43 - Vila Franca do Campo\n",
      "Retrieving data for 44 - Candelaria\n",
      "Retrieving data for 45 - Divnogorsk\n",
      "Retrieving data for 46 - Half Moon Bay\n",
      "Retrieving data for 47 - Aguadilla\n",
      "Retrieving data for 48 - Beyneu\n",
      "Retrieving data for 49 - Kenai\n",
      "Retrieving data for 50 - Adrar\n",
      "Retrieving data for 51 - San Quintín\n",
      "Retrieving data for 53 - Shelabolikha\n",
      "Retrieving data for 54 - Rafaela\n",
      "Retrieving data for 55 - Atuona\n",
      "Retrieving data for 56 - Omboué\n",
      "Retrieving data for 57 - Peruíbe\n",
      "Retrieving data for 58 - Miyazu\n",
      "Retrieving data for 59 - East London\n",
      "Retrieving data for 60 - Saint-Joseph\n",
      "Retrieving data for 61 - Aktau\n",
      "Retrieving data for 62 - Ponta do Sol\n",
      "Retrieving data for 63 - Cap Malheureux\n",
      "Retrieving data for 64 - Nishihara\n",
      "Retrieving data for 65 - Banda Aceh\n",
      "Retrieving data for 66 - Zhuhai\n",
      "Retrieving data for 67 - Bastos\n",
      "Retrieving data for 68 - Northam\n",
      "Retrieving data for 69 - Magadan\n",
      "Retrieving data for 70 - Castro\n",
      "Retrieving data for 71 - Manggar\n",
      "Retrieving data for 72 - Zadonsk\n",
      "Retrieving data for 73 - Pandan\n",
      "Retrieving data for 74 - Provideniya\n",
      "Retrieving data for 75 - Pathein\n",
      "Retrieving data for 76 - Aswān\n",
      "Retrieving data for 77 - West Bay\n",
      "Retrieving data for 78 - Tuatapere\n",
      "Retrieving data for 79 - Erenhot\n",
      "Retrieving data for 80 - Sørland\n",
      "Retrieving data for 81 - Qaanaaq\n",
      "Retrieving data for 82 - Marsh Harbour\n",
      "Retrieving data for 83 - Souillac\n",
      "Retrieving data for 84 - Waverly\n",
      "Retrieving data for 85 - Kryve Ozero\n",
      "Retrieving data for 86 - Bathsheba\n",
      "Retrieving data for 87 - Namwala\n",
      "Retrieving data for 88 - Margate\n",
      "Retrieving data for 89 - Tagusao\n",
      "Retrieving data for 90 - Port Alfred\n",
      "Retrieving data for 91 - Faanui\n",
      "Retrieving data for 93 - Tandil\n",
      "Retrieving data for 95 - Yulara\n",
      "Retrieving data for 96 - Vaini\n",
      "Retrieving data for 97 - Noumea\n",
      "Retrieving data for 98 - Ankazoabo\n",
      "Retrieving data for 100 - Calama\n",
      "Retrieving data for 101 - Muzhi\n",
      "Retrieving data for 103 - Ketchikan\n",
      "Retrieving data for 104 - Ucluelet\n",
      "Retrieving data for 105 - Norman Wells\n",
      "Retrieving data for 106 - Hithadhoo\n",
      "Retrieving data for 107 - Praia da Vitória\n",
      "Retrieving data for 108 - Tuy Hoa\n",
      "Retrieving data for 109 - Hūn\n",
      "Retrieving data for 111 - Portland\n",
      "Retrieving data for 112 - Umm Hājar\n",
      "Retrieving data for 113 - Antofagasta\n",
      "Retrieving data for 114 - Kunya\n",
      "Retrieving data for 115 - Husavik\n",
      "Retrieving data for 116 - Kiunga\n",
      "Retrieving data for 117 - Dingle\n",
      "Retrieving data for 118 - Carnarvon\n",
      "Retrieving data for 119 - Rakoshyno\n",
      "Retrieving data for 120 - Boromo\n",
      "Retrieving data for 121 - Bedford\n",
      "Retrieving data for 122 - Sal Rei\n",
      "Retrieving data for 123 - Severo-Kuril'sk\n",
      "Retrieving data for 124 - Devils Lake\n",
      "Retrieving data for 125 - Kuusamo\n",
      "Retrieving data for 126 - Khilok\n",
      "Retrieving data for 127 - Tasiilaq\n",
      "Retrieving data for 128 - Bay City\n",
      "Retrieving data for 129 - Shitanjing\n",
      "Retrieving data for 130 - Chunoyar\n",
      "Retrieving data for 131 - Villa Bruzual\n",
      "Retrieving data for 132 - Nanortalik\n",
      "Retrieving data for 133 - Luan\n",
      "Retrieving data for 134 - Lagoa\n",
      "Retrieving data for 135 - Plettenberg Bay\n",
      "Retrieving data for 136 - Lufilufi\n",
      "Retrieving data for 137 - Buraidah\n",
      "Retrieving data for 138 - Lompoc\n",
      "Retrieving data for 139 - Bella Union\n",
      "Retrieving data for 141 - Balabac\n",
      "Retrieving data for 142 - Karoi\n",
      "Retrieving data for 143 - Naryan-Mar\n",
      "Retrieving data for 144 - Chui\n",
      "Retrieving data for 145 - Lebu\n",
      "Retrieving data for 146 - Oparino\n",
      "Retrieving data for 147 - Auki\n",
      "Retrieving data for 148 - Olafsvik\n",
      "Retrieving data for 149 - Mataura\n",
      "Retrieving data for 150 - São João da Barra\n",
      "Retrieving data for 151 - Sterling\n",
      "Retrieving data for 152 - Saskylakh\n",
      "Retrieving data for 153 - Dangara\n",
      "Retrieving data for 154 - Touros\n",
      "Retrieving data for 155 - Aksha\n",
      "Retrieving data for 156 - La Ronge\n",
      "Retrieving data for 157 - Jiangyou\n",
      "Retrieving data for 158 - Killybegs\n",
      "Retrieving data for 159 - Lüderitz\n",
      "Retrieving data for 160 - Amahai\n",
      "Retrieving data for 161 - Peto\n",
      "Retrieving data for 162 - La Palma\n",
      "Retrieving data for 163 - Hermanus\n",
      "Retrieving data for 164 - Shingū\n",
      "Retrieving data for 165 - Kannur\n",
      "Retrieving data for 166 - Angoche\n",
      "Retrieving data for 169 - Fortuna\n",
      "Retrieving data for 170 - Sittwe\n",
      "Retrieving data for 171 - Taunggyi\n",
      "Retrieving data for 172 - Te Anau\n",
      "Retrieving data for 174 - Nasīrābād\n",
      "Retrieving data for 175 - Eureka\n",
      "Retrieving data for 176 - Ancud\n",
      "Retrieving data for 177 - Namie\n",
      "Retrieving data for 178 - Emerald\n",
      "Retrieving data for 179 - Port Keats\n",
      "Retrieving data for 180 - Coahuayana Viejo\n",
      "Retrieving data for 181 - Viedma\n",
      "Retrieving data for 182 - Narsaq\n",
      "Retrieving data for 183 - Salalah\n",
      "Retrieving data for 184 - Banepā\n",
      "Retrieving data for 185 - Gornopravdinsk\n",
      "Retrieving data for 186 - Mar del Plata\n",
      "Retrieving data for 187 - Alice Springs\n",
      "Retrieving data for 188 - Yerofey Pavlovich\n",
      "Retrieving data for 189 - Jūybār\n",
      "Retrieving data for 190 - Srednekolymsk\n",
      "Retrieving data for 191 - Fairbanks\n",
      "Retrieving data for 192 - Marstal\n",
      "Retrieving data for 193 - Tazovsky\n",
      "Retrieving data for 194 - Qena\n",
      "Retrieving data for 195 - Vieste\n",
      "Retrieving data for 196 - Isla Mujeres\n",
      "Retrieving data for 197 - Boguchany\n",
      "Retrieving data for 198 - Hasaki\n",
      "Retrieving data for 199 - Dubai\n",
      "Retrieving data for 200 - Pekan\n",
      "Retrieving data for 201 - Dikson\n",
      "Retrieving data for 202 - Maba\n",
      "Retrieving data for 203 - Solnechnyy\n",
      "Retrieving data for 205 - Pundaguitan\n",
      "Retrieving data for 206 - São Filipe\n",
      "Retrieving data for 207 - Atambua\n",
      "Retrieving data for 208 - Wanlaweyn\n",
      "Retrieving data for 209 - Punta Arenas\n",
      "Retrieving data for 210 - Hakkâri Province\n",
      "Retrieving data for 211 - Krasnaya Gorbatka\n",
      "Retrieving data for 212 - Yei\n",
      "Retrieving data for 213 - Maceió\n",
      "Retrieving data for 214 - Alofi\n",
      "Retrieving data for 215 - Hualmay\n",
      "Retrieving data for 216 - Mahajanga\n",
      "Retrieving data for 217 - Quelimane\n",
      "Retrieving data for 218 - Vallenar\n",
      "Retrieving data for 220 - Saint George\n",
      "Retrieving data for 223 - Ust'-Kut\n",
      "Retrieving data for 224 - Mandalī\n",
      "Retrieving data for 225 - Yinchuan\n",
      "Retrieving data for 226 - Serebryanyy Bor\n",
      "Retrieving data for 227 - Safi\n",
      "Retrieving data for 229 - Arandis\n",
      "Retrieving data for 230 - Port-Cartier\n",
      "Retrieving data for 231 - Anloga\n",
      "Retrieving data for 232 - Bethel\n",
      "Retrieving data for 234 - Saldanha\n",
      "Retrieving data for 235 - Iqaluit\n",
      "Retrieving data for 236 - Kosonsoy\n",
      "Retrieving data for 237 - Desna\n",
      "Retrieving data for 238 - Vila Velha\n",
      "Retrieving data for 239 - Rio Grande\n",
      "Retrieving data for 240 - Khani\n",
      "Retrieving data for 241 - Masvingo\n",
      "Retrieving data for 242 - Cayenne\n",
      "Retrieving data for 243 - Luganville\n",
      "Retrieving data for 244 - Marsaxlokk\n",
      "Retrieving data for 245 - Jalu\n",
      "Retrieving data for 246 - Uyuni\n",
      "Retrieving data for 247 - Tokonou\n",
      "Retrieving data for 248 - Farafangana\n",
      "Retrieving data for 249 - Brocēni\n",
      "Retrieving data for 251 - Pevek\n",
      "Retrieving data for 252 - Bredasdorp\n",
      "Retrieving data for 253 - Hokitika\n",
      "Retrieving data for 254 - Puerto Ayora\n"
     ]
    },
    {
     "name": "stdout",
     "output_type": "stream",
     "text": [
      "Retrieving data for 256 - Cowra\n",
      "Retrieving data for 257 - Hofn\n",
      "Retrieving data for 258 - Poya\n",
      "Retrieving data for 259 - Nālūt\n",
      "Retrieving data for 260 - Raudeberg\n",
      "Retrieving data for 261 - Mabaruma\n",
      "Retrieving data for 262 - Tuktoyaktuk\n",
      "Retrieving data for 263 - Mae Sai\n",
      "Retrieving data for 264 - Wittenberge\n",
      "Retrieving data for 265 - Palu\n",
      "Retrieving data for 266 - Gujar Khan\n",
      "Retrieving data for 267 - Kieta\n",
      "Retrieving data for 269 - Humaitá\n",
      "Retrieving data for 271 - Havre-St-Pierre\n",
      "Retrieving data for 272 - Berdigestyakh\n",
      "Retrieving data for 273 - Kitaibaraki\n",
      "Retrieving data for 274 - Klaksvík\n",
      "Retrieving data for 275 - Mersing\n",
      "Retrieving data for 276 - Biak\n",
      "Retrieving data for 277 - Arrondissement de Bastia\n",
      "Retrieving data for 278 - Atar\n",
      "Retrieving data for 280 - Bonavista\n",
      "Retrieving data for 281 - Albany\n",
      "Retrieving data for 282 - Nurota\n",
      "Retrieving data for 283 - Casper\n",
      "Retrieving data for 284 - Ponta Delgada\n",
      "Retrieving data for 285 - Dukat\n",
      "Retrieving data for 286 - Mocuba\n",
      "Retrieving data for 287 - South Hill\n",
      "Retrieving data for 288 - Xichang\n",
      "Retrieving data for 289 - Avera\n",
      "Retrieving data for 290 - Busselton\n",
      "Retrieving data for 291 - Saint Paul Harbor\n",
      "Retrieving data for 292 - Port Elizabeth\n",
      "Retrieving data for 293 - Tyup\n",
      "Retrieving data for 295 - Port Lincoln\n",
      "Retrieving data for 296 - Talnakh\n",
      "Retrieving data for 297 - Manicoré\n",
      "Retrieving data for 298 - Laguna\n",
      "Retrieving data for 299 - Isangel\n",
      "Retrieving data for 300 - Berlevåg\n",
      "Retrieving data for 301 - Bubaque\n",
      "Retrieving data for 302 - Baker City\n",
      "Retrieving data for 303 - Pitimbu\n",
      "Retrieving data for 304 - Murashi\n",
      "Retrieving data for 306 - Capitão Poço\n",
      "Retrieving data for 307 - Biltine\n",
      "Retrieving data for 308 - Darhan\n",
      "Retrieving data for 309 - Yaan\n",
      "Retrieving data for 310 - Tessalit\n",
      "Retrieving data for 311 - Lorengau\n",
      "Retrieving data for 312 - Marawi\n",
      "Retrieving data for 313 - Zhigansk\n",
      "Retrieving data for 315 - Inyonga\n",
      "Retrieving data for 316 - The Valley\n",
      "Retrieving data for 317 - Ampanihy\n",
      "Retrieving data for 318 - Muromtsevo\n",
      "Retrieving data for 320 - Council Bluffs\n",
      "Retrieving data for 321 - Butaritari\n",
      "Retrieving data for 322 - Fukuechō\n",
      "Retrieving data for 323 - Cockburn Town\n",
      "Retrieving data for 324 - Vardø\n",
      "Retrieving data for 325 - Islamkot\n",
      "Retrieving data for 326 - Cuamba\n",
      "Retrieving data for 327 - Sakakah\n",
      "Retrieving data for 328 - Botou\n",
      "Retrieving data for 329 - Tsabong\n",
      "Retrieving data for 330 - Grand Gaube\n",
      "Retrieving data for 331 - Hudiksvall\n",
      "Retrieving data for 332 - Lima\n",
      "Retrieving data for 333 - Makakilo City\n",
      "Retrieving data for 334 - Koslan\n",
      "Retrieving data for 335 - Boralday\n",
      "Retrieving data for 336 - Bacolod City\n",
      "Retrieving data for 337 - Mossamedes\n",
      "Retrieving data for 338 - Port Hedland\n",
      "Retrieving data for 340 - Asmara\n",
      "Retrieving data for 341 - Lebanon\n",
      "Retrieving data for 342 - Mandalgovi\n",
      "Retrieving data for 343 - Puerto Carreño\n",
      "Retrieving data for 344 - Kununurra\n",
      "Retrieving data for 345 - Natal\n",
      "Retrieving data for 346 - Kavarna\n",
      "Retrieving data for 347 - Sechura\n",
      "Retrieving data for 348 - Pangani\n",
      "Retrieving data for 349 - San Patricio\n",
      "Retrieving data for 350 - Riyadh\n",
      "Retrieving data for 351 - Lavrentiya\n",
      "Retrieving data for 352 - Yellowknife\n",
      "Retrieving data for 353 - Bluff\n",
      "Retrieving data for 354 - Beatrice\n",
      "Retrieving data for 355 - Ilulissat\n",
      "Retrieving data for 356 - Juneau\n",
      "Retrieving data for 358 - Inuvik\n",
      "Retrieving data for 359 - Constitución\n",
      "Retrieving data for 360 - Inhambane\n",
      "Retrieving data for 361 - Ushuaia\n",
      "Retrieving data for 362 - Nosy Varika\n",
      "Retrieving data for 363 - Cap-aux-Meules\n",
      "Retrieving data for 364 - Belaya Gora\n",
      "Retrieving data for 365 - Forsytheganj\n",
      "Retrieving data for 366 - Tura\n",
      "Retrieving data for 367 - Jiuquan\n",
      "Retrieving data for 368 - Tomatlán\n",
      "Retrieving data for 369 - Kangasala\n",
      "Retrieving data for 370 - Tiksi\n",
      "Retrieving data for 371 - Sabang\n",
      "Retrieving data for 372 - Vao\n",
      "Retrieving data for 374 - Sur\n",
      "Retrieving data for 375 - Buala\n",
      "Retrieving data for 376 - Barentu\n",
      "Retrieving data for 377 - Ambam\n",
      "Retrieving data for 378 - Basco\n",
      "Retrieving data for 379 - Gouyave\n",
      "Retrieving data for 380 - Ol'ga\n",
      "Retrieving data for 381 - Laas\n",
      "Retrieving data for 382 - South Charleston\n",
      "Retrieving data for 383 - Hobart\n",
      "Retrieving data for 384 - Coyhaique\n",
      "Retrieving data for 385 - Mnogovershinnyy\n",
      "Retrieving data for 386 - Esperance\n",
      "Retrieving data for 387 - Taksimo\n",
      "Retrieving data for 388 - Cedar City\n",
      "Retrieving data for 389 - Taltal\n",
      "Retrieving data for 390 - Macaé\n",
      "Retrieving data for 392 - Ribeira Grande\n",
      "Retrieving data for 393 - Kavieng\n",
      "Retrieving data for 394 - Celestún\n",
      "Retrieving data for 395 - Pata\n",
      "Retrieving data for 396 - Henties Bay\n",
      "Retrieving data for 397 - Mahon\n",
      "Retrieving data for 398 - Arcata\n",
      "Retrieving data for 399 - Honiara\n",
      "Retrieving data for 400 - Ambulu\n",
      "Retrieving data for 401 - Geraldton\n",
      "Retrieving data for 403 - Kudahuvadhoo\n",
      "Retrieving data for 404 - Christchurch\n",
      "Retrieving data for 405 - Asău\n",
      "Retrieving data for 406 - Mercedes\n",
      "Retrieving data for 407 - Ahipara\n",
      "Retrieving data for 408 - Mishelevka\n",
      "Retrieving data for 409 - Narnaul\n",
      "Retrieving data for 410 - Ambilobe\n",
      "Retrieving data for 411 - Rocha\n",
      "Retrieving data for 412 - Cherskiy\n",
      "Retrieving data for 413 - Hilo\n",
      "Retrieving data for 414 - Paraná\n",
      "Retrieving data for 416 - Torbay\n",
      "Retrieving data for 417 - Fort Morgan\n",
      "Retrieving data for 418 - Sinnamary\n",
      "Retrieving data for 419 - Port Hardy\n",
      "Retrieving data for 420 - Avarua\n",
      "Retrieving data for 421 - Ust'-Omchug\n",
      "Retrieving data for 422 - Qaqortoq\n",
      "Retrieving data for 423 - Monte Alegre\n",
      "Retrieving data for 424 - Vaitape\n",
      "Retrieving data for 425 - Necochea\n",
      "Retrieving data for 426 - Ormara\n",
      "Retrieving data for 427 - Srikakulam\n",
      "Retrieving data for 428 - Poum\n",
      "Retrieving data for 429 - Bucerías\n",
      "Retrieving data for 430 - Ndioum\n",
      "Retrieving data for 431 - Wajir\n",
      "Retrieving data for 432 - Mount Gambier\n",
      "Retrieving data for 433 - Harwich\n",
      "Retrieving data for 434 - Longyearbyen\n",
      "Retrieving data for 435 - Yashkul'\n",
      "Retrieving data for 436 - Rognan\n",
      "Retrieving data for 437 - Monmouth\n",
      "Retrieving data for 438 - Ahar\n",
      "Retrieving data for 440 - Koumac\n",
      "Retrieving data for 441 - Tual\n",
      "Retrieving data for 442 - Hobyo\n",
      "Retrieving data for 443 - Khovd\n",
      "Retrieving data for 444 - Tocache\n",
      "Retrieving data for 445 - Airai\n",
      "Retrieving data for 446 - Faya\n",
      "Retrieving data for 447 - Nabire\n",
      "Retrieving data for 448 - Sungai Penuh\n",
      "Retrieving data for 449 - Mahébourg\n",
      "Retrieving data for 450 - Aurillac\n",
      "Retrieving data for 451 - Westport\n",
      "Retrieving data for 452 - Vuktyl\n",
      "Retrieving data for 453 - Kurya\n",
      "Retrieving data for 454 - Aljezur\n",
      "Retrieving data for 455 - Beringovskiy\n",
      "Retrieving data for 456 - Doka\n",
      "Retrieving data for 457 - Yangi Marg`ilon\n",
      "Retrieving data for 458 - Aitape\n",
      "Retrieving data for 459 - Hong Kong\n",
      "Retrieving data for 460 - Yining\n",
      "Retrieving data for 461 - George Town\n",
      "Retrieving data for 462 - Mahanoro\n",
      "Retrieving data for 463 - Mount Isa\n",
      "Retrieving data for 464 - San Cristobal\n",
      "Retrieving data for 465 - Belmonte\n",
      "Retrieving data for 466 - Kloulklubed\n",
      "Retrieving data for 467 - Izumo\n",
      "Retrieving data for 468 - Iowa City\n",
      "Retrieving data for 469 - Rudnichnyy\n",
      "Retrieving data for 470 - Prince Rupert\n",
      "Retrieving data for 471 - Bamnet Narong\n",
      "Retrieving data for 472 - Grafton\n",
      "Retrieving data for 473 - Svirsk\n",
      "Retrieving data for 474 - Baykit\n",
      "Retrieving data for 475 - Beni Mazar\n",
      "Retrieving data for 476 - Katsuura\n",
      "Retrieving data for 477 - Tambura\n",
      "Retrieving data for 478 - Pacific Grove\n",
      "Retrieving data for 479 - Kuril'sk\n",
      "Retrieving data for 480 - Luanda\n",
      "Retrieving data for 481 - Bambous Virieux\n",
      "Retrieving data for 482 - Kahului\n",
      "Retrieving data for 483 - Payakumbuh\n",
      "Retrieving data for 484 - Taiyuan\n",
      "Retrieving data for 485 - Anadyr\n",
      "Retrieving data for 486 - Hamilton\n",
      "Retrieving data for 487 - Sitka\n",
      "Retrieving data for 488 - Saint-Leu\n",
      "Retrieving data for 489 - Krasnovka\n",
      "Retrieving data for 490 - Vryburg\n",
      "Retrieving data for 491 - Gavrilov-Yam\n",
      "Retrieving data for 492 - Walvis Bay\n",
      "Retrieving data for 493 - Shache\n",
      "Retrieving data for 494 - Bodden Town\n",
      "Retrieving data for 495 - Kapaa\n",
      "Retrieving data for 496 - Blahodatne\n",
      "Retrieving data for 498 - Santarém\n",
      "Retrieving data for 499 - Rikitea\n",
      "Retrieving data for 500 - Matadi\n",
      "Retrieving data for 501 - College\n",
      "Retrieving data for 502 - Cravo Norte\n",
      "Retrieving data for 503 - Nikolskoye\n",
      "Retrieving data for 504 - Pangody\n"
     ]
    },
    {
     "name": "stdout",
     "output_type": "stream",
     "text": [
      "Retrieving data for 505 - Haverfordwest\n",
      "Retrieving data for 506 - Waipawa\n",
      "Retrieving data for 507 - Opuwo\n",
      "Retrieving data for 508 - Cariré\n",
      "Retrieving data for 509 - Río Gallegos\n",
      "Retrieving data for 510 - Inírida\n",
      "Retrieving data for 511 - Naze\n",
      "Retrieving data for 512 - Waynesville\n",
      "Retrieving data for 513 - Padilla\n",
      "Retrieving data for 514 - Roanoke Rapids\n",
      "Retrieving data for 515 - Puerto Escondido\n",
      "Retrieving data for 516 - Saint-Philippe\n",
      "Retrieving data for 517 - Kumluca\n",
      "Retrieving data for 518 - Tadine\n",
      "Retrieving data for 519 - Ixtapa\n",
      "Retrieving data for 520 - Kiryat Gat\n",
      "Retrieving data for 521 - Cidreira\n",
      "Retrieving data for 522 - Chepareria\n",
      "Retrieving data for 523 - Siraha\n",
      "Retrieving data for 524 - Cortez\n",
      "Retrieving data for 525 - Ţaga\n",
      "Retrieving data for 526 - Ostrovnoy\n",
      "Retrieving data for 527 - Aykhal\n",
      "Retrieving data for 528 - Pedernales\n",
      "Retrieving data for 529 - Gannan\n",
      "Retrieving data for 530 - Bonthe\n",
      "Retrieving data for 531 - Andilamena\n",
      "Retrieving data for 532 - Oktyabr'skoye\n",
      "Retrieving data for 533 - Sibolga\n",
      "Retrieving data for 534 - Kohlu\n",
      "Retrieving data for 535 - Ust'-Uda\n",
      "Retrieving data for 536 - Upernavik\n",
      "Retrieving data for 537 - Barrow\n",
      "Retrieving data for 538 - Yar-Sale\n",
      "Retrieving data for 539 - Vyartsilya\n",
      "Retrieving data for 540 - Riosucio\n",
      "Retrieving data for 541 - Giresun Province\n",
      "Retrieving data for 542 - Moroni\n",
      "Retrieving data for 543 - Tilichiki\n",
      "Retrieving data for 544 - Hervey Bay\n",
      "Retrieving data for 545 - Mackenzie\n",
      "Retrieving data for 546 - Beruwala\n",
      "Retrieving data for 547 - Mamakan\n",
      "Retrieving data for 548 - Troitskoye\n",
      "Retrieving data for 549 - Abay\n",
      "Retrieving data for 550 - Nampula\n",
      "Retrieving data for 551 - Boddam\n",
      "Retrieving data for 552 - Vostok\n",
      "Retrieving data for 553 - Khatanga\n",
      "Retrieving data for 554 - Ossora\n",
      "Retrieving data for 555 - Moyale\n",
      "Retrieving data for 556 - Saraland\n",
      "Retrieving data for 557 - Yeniseysk\n",
      "Retrieving data for 558 - Shimokizukuri\n",
      "Retrieving data for 561 - Panacan\n",
      "Retrieving data for 562 - Otane\n",
      "Retrieving data for 563 - Port Blair\n",
      "Retrieving data for 564 - Ust-Maya\n",
      "Retrieving data for 566 - Lucapa\n",
      "Retrieving data for 567 - Solwezi\n",
      "Retrieving data for 568 - Lakes Entrance\n",
      "Retrieving data for 569 - Gejiu\n",
      "Retrieving data for 570 - Bud\n",
      "Retrieving data for 571 - Hambantota\n",
      "Retrieving data for 572 - Novy Urengoy\n",
      "Retrieving data for 573 - Vigrestad\n",
      "Retrieving data for 574 - Marzuq\n",
      "Retrieving data for 575 - Harper\n",
      "Retrieving data for 576 - Changji\n",
      "Retrieving data for 577 - Kaitangata\n",
      "Retrieving data for 578 - Marabu\n",
      "Retrieving data for 579 - Kīhei\n",
      "Retrieving data for 580 - Maniitsoq\n",
      "Retrieving data for 581 - Kapit\n",
      "Retrieving data for 582 - Afrikanda\n",
      "Retrieving data for 583 - Ontario\n",
      "Retrieving data for 584 - Nome\n",
      "Retrieving data for 585 - Dehlorān\n",
      "Retrieving data for 586 - Ustka\n",
      "Retrieving data for 588 - Carutapera\n",
      "Retrieving data for 589 - Veinticinco de Mayo\n",
      "Retrieving data for 591 - Namatanai\n",
      "Retrieving data for 592 - Sinazongwe\n",
      "Retrieving data for 593 - Kushiro\n",
      "Retrieving data for 594 - Meulaboh\n",
      "Retrieving data for 595 - Tripoli\n",
      "Retrieving data for 596 - Sherman\n",
      "Retrieving data for 597 - Cape Town\n",
      "Retrieving data for 598 - Regente Feijó\n",
      "Retrieving data for 599 - Obsharovka\n",
      "Retrieving data for 600 - Santa Rosa\n",
      "Retrieving data for 601 - Puerto Varas\n",
      "Retrieving data for 602 - Jamestown\n",
      "Retrieving data for 603 - Arraial do Cabo\n",
      "Retrieving data for 604 - Korla\n",
      "Retrieving data for 605 - Chokurdakh\n",
      "Retrieving data for 607 - Bengkulu\n",
      "Retrieving data for 608 - Bambanglipuro\n",
      "Retrieving data for 609 - Brae\n",
      "Retrieving data for 610 - Paris\n",
      "Retrieving data for 611 - Mpika\n"
     ]
    }
   ],
   "source": [
    "cities_df = pd.DataFrame({\"City\": cities,\n",
    "                 \"Lat\": \"\",\n",
    "                  \"Lng\": \"\",\n",
    "                  \"Temperature\": \"\",\n",
    "                  \"Humidity\": \"\",\n",
    "                  \"Cloudiness\": \"\",\n",
    "                  \"Wind Speed\": \"\"})\n",
    "\n",
    "for index, row in cities_df.iterrows():\n",
    "\n",
    "    city = row[\"City\"]\n",
    "    params = {\"q\":city,\n",
    "         \"units\":\"metric\",\n",
    "         \"appid\":weather_api_key}\n",
    "\n",
    "    try:\n",
    "        response = requests.get(url, params = params).json()\n",
    "        \n",
    "        cities_df.loc[index, \"Lat\"] = response['coord']['lat']\n",
    "        cities_df.loc[index, \"Lng\"] = response['coord']['lon']\n",
    "        cities_df.loc[index, \"Temperature\"] = response['main']['temp']\n",
    "        cities_df.loc[index, \"Humidity\"] = response['main']['humidity']\n",
    "        cities_df.loc[index, \"Cloudiness\"] = response['clouds']['all']\n",
    "        cities_df.loc[index, \"Wind Speed\"] = response['wind']['speed']\n",
    "        cities_df.loc[index, \"Country\"] = response[\"sys\"][\"country\"]\n",
    "\n",
    "        print(f\"Retrieving data for {index + 1} - {response['name']}\")\n",
    "        \n",
    "    except (KeyError, IndexError):\n",
    "        pass\n"
   ]
  },
  {
   "cell_type": "markdown",
   "metadata": {},
   "source": [
    "### Convert Raw Data to DataFrame\n",
    "* Export the city data into a .csv.\n",
    "* Display the DataFrame"
   ]
  },
  {
   "cell_type": "code",
   "execution_count": 55,
   "metadata": {},
   "outputs": [],
   "source": [
    "cities_df.to_csv(\"Cities_weather.csv\")"
   ]
  },
  {
   "cell_type": "code",
   "execution_count": 56,
   "metadata": {},
   "outputs": [
    {
     "data": {
      "text/html": [
       "<div>\n",
       "<style scoped>\n",
       "    .dataframe tbody tr th:only-of-type {\n",
       "        vertical-align: middle;\n",
       "    }\n",
       "\n",
       "    .dataframe tbody tr th {\n",
       "        vertical-align: top;\n",
       "    }\n",
       "\n",
       "    .dataframe thead th {\n",
       "        text-align: right;\n",
       "    }\n",
       "</style>\n",
       "<table border=\"1\" class=\"dataframe\">\n",
       "  <thead>\n",
       "    <tr style=\"text-align: right;\">\n",
       "      <th></th>\n",
       "      <th>City</th>\n",
       "      <th>Lat</th>\n",
       "      <th>Lng</th>\n",
       "      <th>Temperature</th>\n",
       "      <th>Humidity</th>\n",
       "      <th>Cloudiness</th>\n",
       "      <th>Wind Speed</th>\n",
       "      <th>Country</th>\n",
       "    </tr>\n",
       "  </thead>\n",
       "  <tbody>\n",
       "    <tr>\n",
       "      <th>0</th>\n",
       "      <td>codrington</td>\n",
       "      <td>-38.2667</td>\n",
       "      <td>141.9667</td>\n",
       "      <td>10.79</td>\n",
       "      <td>68</td>\n",
       "      <td>100</td>\n",
       "      <td>4.54</td>\n",
       "      <td>AU</td>\n",
       "    </tr>\n",
       "    <tr>\n",
       "      <th>1</th>\n",
       "      <td>utiroa</td>\n",
       "      <td></td>\n",
       "      <td></td>\n",
       "      <td></td>\n",
       "      <td></td>\n",
       "      <td></td>\n",
       "      <td></td>\n",
       "      <td>NaN</td>\n",
       "    </tr>\n",
       "    <tr>\n",
       "      <th>2</th>\n",
       "      <td>sept-iles</td>\n",
       "      <td>50.2001</td>\n",
       "      <td>-66.3821</td>\n",
       "      <td>8.92</td>\n",
       "      <td>77</td>\n",
       "      <td>100</td>\n",
       "      <td>5.36</td>\n",
       "      <td>CA</td>\n",
       "    </tr>\n",
       "    <tr>\n",
       "      <th>3</th>\n",
       "      <td>takoradi</td>\n",
       "      <td>4.8845</td>\n",
       "      <td>-1.7554</td>\n",
       "      <td>24.77</td>\n",
       "      <td>86</td>\n",
       "      <td>100</td>\n",
       "      <td>1.6</td>\n",
       "      <td>GH</td>\n",
       "    </tr>\n",
       "    <tr>\n",
       "      <th>4</th>\n",
       "      <td>zhicheng</td>\n",
       "      <td>30.2956</td>\n",
       "      <td>111.5047</td>\n",
       "      <td>30.8</td>\n",
       "      <td>48</td>\n",
       "      <td>1</td>\n",
       "      <td>2.04</td>\n",
       "      <td>CN</td>\n",
       "    </tr>\n",
       "  </tbody>\n",
       "</table>\n",
       "</div>"
      ],
      "text/plain": [
       "         City      Lat       Lng Temperature Humidity Cloudiness Wind Speed  \\\n",
       "0  codrington -38.2667  141.9667       10.79       68        100       4.54   \n",
       "1      utiroa                                                                 \n",
       "2   sept-iles  50.2001  -66.3821        8.92       77        100       5.36   \n",
       "3    takoradi   4.8845   -1.7554       24.77       86        100        1.6   \n",
       "4    zhicheng  30.2956  111.5047        30.8       48          1       2.04   \n",
       "\n",
       "  Country  \n",
       "0      AU  \n",
       "1     NaN  \n",
       "2      CA  \n",
       "3      GH  \n",
       "4      CN  "
      ]
     },
     "execution_count": 56,
     "metadata": {},
     "output_type": "execute_result"
    }
   ],
   "source": [
    "cities_df.head()"
   ]
  },
  {
   "cell_type": "markdown",
   "metadata": {},
   "source": [
    "## Inspect the data and remove the cities where the humidity > 100%.\n",
    "----\n",
    "Skip this step if there are no cities that have humidity > 100%. "
   ]
  },
  {
   "cell_type": "code",
   "execution_count": 35,
   "metadata": {},
   "outputs": [
    {
     "data": {
      "text/html": [
       "<div>\n",
       "<style scoped>\n",
       "    .dataframe tbody tr th:only-of-type {\n",
       "        vertical-align: middle;\n",
       "    }\n",
       "\n",
       "    .dataframe tbody tr th {\n",
       "        vertical-align: top;\n",
       "    }\n",
       "\n",
       "    .dataframe thead th {\n",
       "        text-align: right;\n",
       "    }\n",
       "</style>\n",
       "<table border=\"1\" class=\"dataframe\">\n",
       "  <thead>\n",
       "    <tr style=\"text-align: right;\">\n",
       "      <th></th>\n",
       "      <th>index</th>\n",
       "      <th>City</th>\n",
       "      <th>Lat</th>\n",
       "      <th>Lng</th>\n",
       "      <th>Temperature</th>\n",
       "      <th>Humidity</th>\n",
       "      <th>Cloudiness</th>\n",
       "      <th>Wind Speed</th>\n",
       "      <th>Country</th>\n",
       "    </tr>\n",
       "  </thead>\n",
       "  <tbody>\n",
       "    <tr>\n",
       "      <th>0</th>\n",
       "      <td>0</td>\n",
       "      <td>codrington</td>\n",
       "      <td>-38.2667</td>\n",
       "      <td>141.9667</td>\n",
       "      <td>10.79</td>\n",
       "      <td>68</td>\n",
       "      <td>100</td>\n",
       "      <td>4.54</td>\n",
       "      <td>AU</td>\n",
       "    </tr>\n",
       "    <tr>\n",
       "      <th>1</th>\n",
       "      <td>2</td>\n",
       "      <td>sept-iles</td>\n",
       "      <td>50.2001</td>\n",
       "      <td>-66.3821</td>\n",
       "      <td>8.92</td>\n",
       "      <td>77</td>\n",
       "      <td>100</td>\n",
       "      <td>5.36</td>\n",
       "      <td>CA</td>\n",
       "    </tr>\n",
       "    <tr>\n",
       "      <th>2</th>\n",
       "      <td>3</td>\n",
       "      <td>takoradi</td>\n",
       "      <td>4.8845</td>\n",
       "      <td>-1.7554</td>\n",
       "      <td>24.77</td>\n",
       "      <td>86</td>\n",
       "      <td>100</td>\n",
       "      <td>1.6</td>\n",
       "      <td>GH</td>\n",
       "    </tr>\n",
       "    <tr>\n",
       "      <th>3</th>\n",
       "      <td>4</td>\n",
       "      <td>zhicheng</td>\n",
       "      <td>30.2956</td>\n",
       "      <td>111.5047</td>\n",
       "      <td>30.8</td>\n",
       "      <td>48</td>\n",
       "      <td>1</td>\n",
       "      <td>2.04</td>\n",
       "      <td>CN</td>\n",
       "    </tr>\n",
       "    <tr>\n",
       "      <th>4</th>\n",
       "      <td>5</td>\n",
       "      <td>kavaratti</td>\n",
       "      <td>10.5669</td>\n",
       "      <td>72.642</td>\n",
       "      <td>27.52</td>\n",
       "      <td>80</td>\n",
       "      <td>100</td>\n",
       "      <td>8.02</td>\n",
       "      <td>IN</td>\n",
       "    </tr>\n",
       "    <tr>\n",
       "      <th>...</th>\n",
       "      <td>...</td>\n",
       "      <td>...</td>\n",
       "      <td>...</td>\n",
       "      <td>...</td>\n",
       "      <td>...</td>\n",
       "      <td>...</td>\n",
       "      <td>...</td>\n",
       "      <td>...</td>\n",
       "      <td>...</td>\n",
       "    </tr>\n",
       "    <tr>\n",
       "      <th>565</th>\n",
       "      <td>606</td>\n",
       "      <td>bengkulu</td>\n",
       "      <td>-3.8004</td>\n",
       "      <td>102.2655</td>\n",
       "      <td>28.98</td>\n",
       "      <td>67</td>\n",
       "      <td>79</td>\n",
       "      <td>3.41</td>\n",
       "      <td>ID</td>\n",
       "    </tr>\n",
       "    <tr>\n",
       "      <th>566</th>\n",
       "      <td>607</td>\n",
       "      <td>bambanglipuro</td>\n",
       "      <td>-7.95</td>\n",
       "      <td>110.2833</td>\n",
       "      <td>27.41</td>\n",
       "      <td>75</td>\n",
       "      <td>85</td>\n",
       "      <td>5.32</td>\n",
       "      <td>ID</td>\n",
       "    </tr>\n",
       "    <tr>\n",
       "      <th>567</th>\n",
       "      <td>608</td>\n",
       "      <td>brae</td>\n",
       "      <td>60.3964</td>\n",
       "      <td>-1.353</td>\n",
       "      <td>13.95</td>\n",
       "      <td>91</td>\n",
       "      <td>99</td>\n",
       "      <td>4.95</td>\n",
       "      <td>GB</td>\n",
       "    </tr>\n",
       "    <tr>\n",
       "      <th>568</th>\n",
       "      <td>609</td>\n",
       "      <td>paris</td>\n",
       "      <td>48.8534</td>\n",
       "      <td>2.3488</td>\n",
       "      <td>19.03</td>\n",
       "      <td>97</td>\n",
       "      <td>90</td>\n",
       "      <td>1.54</td>\n",
       "      <td>FR</td>\n",
       "    </tr>\n",
       "    <tr>\n",
       "      <th>569</th>\n",
       "      <td>610</td>\n",
       "      <td>mpika</td>\n",
       "      <td>-11.8343</td>\n",
       "      <td>31.4529</td>\n",
       "      <td>25.57</td>\n",
       "      <td>26</td>\n",
       "      <td>99</td>\n",
       "      <td>4.2</td>\n",
       "      <td>ZM</td>\n",
       "    </tr>\n",
       "  </tbody>\n",
       "</table>\n",
       "<p>570 rows × 9 columns</p>\n",
       "</div>"
      ],
      "text/plain": [
       "     index           City      Lat       Lng Temperature Humidity Cloudiness  \\\n",
       "0        0     codrington -38.2667  141.9667       10.79       68        100   \n",
       "1        2      sept-iles  50.2001  -66.3821        8.92       77        100   \n",
       "2        3       takoradi   4.8845   -1.7554       24.77       86        100   \n",
       "3        4       zhicheng  30.2956  111.5047        30.8       48          1   \n",
       "4        5      kavaratti  10.5669    72.642       27.52       80        100   \n",
       "..     ...            ...      ...       ...         ...      ...        ...   \n",
       "565    606       bengkulu  -3.8004  102.2655       28.98       67         79   \n",
       "566    607  bambanglipuro    -7.95  110.2833       27.41       75         85   \n",
       "567    608           brae  60.3964    -1.353       13.95       91         99   \n",
       "568    609          paris  48.8534    2.3488       19.03       97         90   \n",
       "569    610          mpika -11.8343   31.4529       25.57       26         99   \n",
       "\n",
       "    Wind Speed Country  \n",
       "0         4.54      AU  \n",
       "1         5.36      CA  \n",
       "2          1.6      GH  \n",
       "3         2.04      CN  \n",
       "4         8.02      IN  \n",
       "..         ...     ...  \n",
       "565       3.41      ID  \n",
       "566       5.32      ID  \n",
       "567       4.95      GB  \n",
       "568       1.54      FR  \n",
       "569        4.2      ZM  \n",
       "\n",
       "[570 rows x 9 columns]"
      ]
     },
     "execution_count": 35,
     "metadata": {},
     "output_type": "execute_result"
    }
   ],
   "source": [
    "# Remove rows not found on OpenWeatherMap\n",
    "clean_cities_df = cities_df[cities_df['Humidity'] != \"\"].reset_index()\n",
    "\n",
    "#Check for cities with humidity >100\n",
    "clean_cities_df.loc[clean_cities_df['Humidity'] < 101]"
   ]
  },
  {
   "cell_type": "code",
   "execution_count": 36,
   "metadata": {},
   "outputs": [
    {
     "data": {
      "text/html": [
       "<div>\n",
       "<style scoped>\n",
       "    .dataframe tbody tr th:only-of-type {\n",
       "        vertical-align: middle;\n",
       "    }\n",
       "\n",
       "    .dataframe tbody tr th {\n",
       "        vertical-align: top;\n",
       "    }\n",
       "\n",
       "    .dataframe thead th {\n",
       "        text-align: right;\n",
       "    }\n",
       "</style>\n",
       "<table border=\"1\" class=\"dataframe\">\n",
       "  <thead>\n",
       "    <tr style=\"text-align: right;\">\n",
       "      <th></th>\n",
       "      <th>City</th>\n",
       "      <th>Lat</th>\n",
       "      <th>Lng</th>\n",
       "      <th>Temperature</th>\n",
       "      <th>Humidity</th>\n",
       "      <th>Cloudiness</th>\n",
       "      <th>Wind Speed</th>\n",
       "      <th>Country</th>\n",
       "    </tr>\n",
       "  </thead>\n",
       "  <tbody>\n",
       "    <tr>\n",
       "      <th>0</th>\n",
       "      <td>codrington</td>\n",
       "      <td>-38.2667</td>\n",
       "      <td>141.9667</td>\n",
       "      <td>10.79</td>\n",
       "      <td>68</td>\n",
       "      <td>100</td>\n",
       "      <td>4.54</td>\n",
       "      <td>AU</td>\n",
       "    </tr>\n",
       "    <tr>\n",
       "      <th>1</th>\n",
       "      <td>sept-iles</td>\n",
       "      <td>50.2001</td>\n",
       "      <td>-66.3821</td>\n",
       "      <td>8.92</td>\n",
       "      <td>77</td>\n",
       "      <td>100</td>\n",
       "      <td>5.36</td>\n",
       "      <td>CA</td>\n",
       "    </tr>\n",
       "    <tr>\n",
       "      <th>2</th>\n",
       "      <td>takoradi</td>\n",
       "      <td>4.8845</td>\n",
       "      <td>-1.7554</td>\n",
       "      <td>24.77</td>\n",
       "      <td>86</td>\n",
       "      <td>100</td>\n",
       "      <td>1.6</td>\n",
       "      <td>GH</td>\n",
       "    </tr>\n",
       "    <tr>\n",
       "      <th>3</th>\n",
       "      <td>zhicheng</td>\n",
       "      <td>30.2956</td>\n",
       "      <td>111.5047</td>\n",
       "      <td>30.8</td>\n",
       "      <td>48</td>\n",
       "      <td>1</td>\n",
       "      <td>2.04</td>\n",
       "      <td>CN</td>\n",
       "    </tr>\n",
       "    <tr>\n",
       "      <th>4</th>\n",
       "      <td>kavaratti</td>\n",
       "      <td>10.5669</td>\n",
       "      <td>72.642</td>\n",
       "      <td>27.52</td>\n",
       "      <td>80</td>\n",
       "      <td>100</td>\n",
       "      <td>8.02</td>\n",
       "      <td>IN</td>\n",
       "    </tr>\n",
       "  </tbody>\n",
       "</table>\n",
       "</div>"
      ],
      "text/plain": [
       "         City      Lat       Lng Temperature Humidity Cloudiness Wind Speed  \\\n",
       "0  codrington -38.2667  141.9667       10.79       68        100       4.54   \n",
       "1   sept-iles  50.2001  -66.3821        8.92       77        100       5.36   \n",
       "2    takoradi   4.8845   -1.7554       24.77       86        100        1.6   \n",
       "3    zhicheng  30.2956  111.5047        30.8       48          1       2.04   \n",
       "4   kavaratti  10.5669    72.642       27.52       80        100       8.02   \n",
       "\n",
       "  Country  \n",
       "0      AU  \n",
       "1      CA  \n",
       "2      GH  \n",
       "3      CN  \n",
       "4      IN  "
      ]
     },
     "execution_count": 36,
     "metadata": {},
     "output_type": "execute_result"
    }
   ],
   "source": [
    "# Make a new DataFrame equal to the city data to drop all humidity outliers by index.\n",
    "# Passing \"inplace=False\" will make a copy of the city_data DataFrame, which we call \"clean_city_data\".\n",
    "clean_city_data = clean_cities_df.drop([\"index\"], axis = 1, inplace = False)\n",
    "clean_city_data.head()"
   ]
  },
  {
   "cell_type": "markdown",
   "metadata": {},
   "source": [
    "## Plotting the Data\n",
    "* Use proper labeling of the plots using plot titles (including date of analysis) and axes labels.\n",
    "* Save the plotted figures as .pngs."
   ]
  },
  {
   "cell_type": "markdown",
   "metadata": {},
   "source": [
    "## Latitude vs. Temperature Plot"
   ]
  },
  {
   "cell_type": "code",
   "execution_count": 37,
   "metadata": {
    "scrolled": true
   },
   "outputs": [
    {
     "name": "stdout",
     "output_type": "stream",
     "text": [
      "This graph displays the maximum temperature in celcius for 570 randomly generated cities across the world at different latitudes. This graph indicates that the closer a city is to a the equator, the warmer it is likely to be.\n"
     ]
    },
    {
     "data": {
      "image/png": "[encoded data removed]",
      "text/plain": [
       "<Figure size 432x288 with 1 Axes>"
      ]
     },
     "metadata": {
      "needs_background": "light"
     },
     "output_type": "display_data"
    }
   ],
   "source": [
    "lat = clean_city_data[\"Lat\"]\n",
    "temp = clean_city_data[\"Temperature\"]\n",
    "\n",
    "plt.title(\"Temperature by Latitude - 12/9/21\")\n",
    "plt.xlabel(\"Latitude\")\n",
    "plt.ylabel(\"Temperature (℃)\")\n",
    "\n",
    "plt.scatter(lat, temp, marker=\"o\", color=\"red\")\n",
    "\n",
    "plt.savefig(\"lat_by_temp.png\")\n",
    "\n",
    "print(\"This graph displays the maximum temperature in celcius for 570 randomly generated cities across the world at different latitudes. This graph indicates that the closer a city is to a the equator, the warmer it is likely to be.\")\n",
    "plt.show()"
   ]
  },
  {
   "cell_type": "markdown",
   "metadata": {},
   "source": [
    "## Latitude vs. Humidity Plot"
   ]
  },
  {
   "cell_type": "code",
   "execution_count": 38,
   "metadata": {},
   "outputs": [
    {
     "name": "stdout",
     "output_type": "stream",
     "text": [
      "This graph displays the relative humidity for 570 randomly generated cities across the world at different latitudes. This graph shows no relationships between humidity and latitude.\n"
     ]
    },
    {
     "data": {
      "image/png": "[encoded data removed]",
      "text/plain": [
       "<Figure size 432x288 with 1 Axes>"
      ]
     },
     "metadata": {
      "needs_background": "light"
     },
     "output_type": "display_data"
    }
   ],
   "source": [
    "lat = clean_city_data[\"Lat\"]\n",
    "humidity = clean_city_data[\"Humidity\"]\n",
    "\n",
    "plt.title(\"Humidity by Latitude - 12/9/21\")\n",
    "plt.xlabel(\"Latitude\")\n",
    "plt.ylabel(\"Humidity (RH%)\")\n",
    "\n",
    "plt.scatter(lat, humidity, marker=\"o\", color=\"red\")\n",
    "\n",
    "plt.savefig(\"lat_by_humidity.png\")\n",
    "\n",
    "print(\"This graph displays the relative humidity for 570 randomly generated cities across the world at different latitudes. This graph shows no relationships between humidity and latitude.\")\n",
    "plt.show()"
   ]
  },
  {
   "cell_type": "markdown",
   "metadata": {},
   "source": [
    "## Latitude vs. Cloudiness Plot"
   ]
  },
  {
   "cell_type": "code",
   "execution_count": 39,
   "metadata": {},
   "outputs": [
    {
     "name": "stdout",
     "output_type": "stream",
     "text": [
      "This graph displays percentage of cloud cover in 570 randomly generated cities across the world at different latitudes. This graph shows no relationship between cloudiness and latitude.\n"
     ]
    },
    {
     "data": {
      "image/png": "[encoded data removed]",
      "text/plain": [
       "<Figure size 432x288 with 1 Axes>"
      ]
     },
     "metadata": {
      "needs_background": "light"
     },
     "output_type": "display_data"
    }
   ],
   "source": [
    "lat = clean_city_data[\"Lat\"]\n",
    "cloud = clean_city_data[\"Cloudiness\"]\n",
    "\n",
    "plt.title(\"Cloudiness by Latitude - 12/9/21\")\n",
    "plt.xlabel(\"Latitude\")\n",
    "plt.ylabel(\"Cloudiness (%)\")\n",
    "\n",
    "plt.scatter(lat, cloud, marker=\"o\", color=\"red\")\n",
    "\n",
    "plt.savefig(\"lat_by_cloud.png\")\n",
    "\n",
    "print(\"This graph displays percentage of cloud cover in 570 randomly generated cities across the world at different latitudes. This graph shows no relationship between cloudiness and latitude.\")\n",
    "plt.show()"
   ]
  },
  {
   "cell_type": "markdown",
   "metadata": {},
   "source": [
    "## Latitude vs. Wind Speed Plot"
   ]
  },
  {
   "cell_type": "code",
   "execution_count": 40,
   "metadata": {},
   "outputs": [
    {
     "name": "stdout",
     "output_type": "stream",
     "text": [
      "This graph displays wind speeds in kilometres per hour for 570 randomly generated cities across the world at different latitudes. This graph shows no cleasr relationship between wind speed and latitude.\n"
     ]
    },
    {
     "data": {
      "image/png": "[encoded data removed]",
      "text/plain": [
       "<Figure size 432x288 with 1 Axes>"
      ]
     },
     "metadata": {
      "needs_background": "light"
     },
     "output_type": "display_data"
    }
   ],
   "source": [
    "lat = clean_city_data[\"Lat\"]\n",
    "wind = clean_city_data[\"Wind Speed\"]\n",
    "\n",
    "plt.title(\"Wind Speed by Latitude - 12/9/21\")\n",
    "plt.xlabel(\"Latitude\")\n",
    "plt.ylabel(\"Wind Speed (km/h)\")\n",
    "\n",
    "plt.scatter(lat, wind, marker=\"o\", color=\"red\")\n",
    "\n",
    "plt.savefig(\"lat_by_wind.png\")\n",
    "\n",
    "print(\"This graph displays wind speeds in kilometres per hour for 570 randomly generated cities across the world at different latitudes. This graph shows no cleasr relationship between wind speed and latitude.\")\n",
    "plt.show()"
   ]
  },
  {
   "cell_type": "markdown",
   "metadata": {},
   "source": [
    "## Linear Regression"
   ]
  },
  {
   "cell_type": "code",
   "execution_count": 41,
   "metadata": {},
   "outputs": [],
   "source": [
    "north_hemisphere = clean_city_data[clean_city_data[\"Lat\"] >= 0]\n",
    "south_hemisphere = clean_city_data[clean_city_data[\"Lat\"] < 0]\n",
    "from scipy.stats import linregress"
   ]
  },
  {
   "cell_type": "markdown",
   "metadata": {},
   "source": [
    "####  Northern Hemisphere - Max Temp vs. Latitude Linear Regression"
   ]
  },
  {
   "cell_type": "code",
   "execution_count": 42,
   "metadata": {},
   "outputs": [
    {
     "name": "stdout",
     "output_type": "stream",
     "text": [
      "This graph displays a strong negative correlation between latitude and maximum temperature in cities in the northern hemisphere indicating that the closer a city is to the equator, the warmer it is likely to be, r = -0.8, p = 0.0. This relationship explains 64% of the variance in the data.\n"
     ]
    },
    {
     "data": {
      "image/png": "[encoded data removed]",
      "text/plain": [
       "<Figure size 432x288 with 1 Axes>"
      ]
     },
     "metadata": {
      "needs_background": "light"
     },
     "output_type": "display_data"
    }
   ],
   "source": [
    "lat_north = list(north_hemisphere[\"Lat\"])\n",
    "temp_north = list(north_hemisphere[\"Temperature\"])\n",
    "\n",
    "\n",
    "plt.title(\"Temperature by Latitude (Northern Hemisphere) - 12/9/21\")\n",
    "plt.xlabel(\"Latitude\")\n",
    "plt.ylabel(\"Temperature (℃)\")\n",
    "\n",
    "\n",
    "(slope, intercept, rvalue, pvalue, stderr) = linregress(lat_north, temp_north)\n",
    "regress_values = pd.Series(lat_north) * slope + intercept\n",
    "line_eq = \"y = \" + str(round(slope,2)) + \"x + \" + str(round(intercept,2))\n",
    "plt.scatter(lat_north, temp_north, marker=\"o\", color=\"red\")\n",
    "plt.plot(lat_north, regress_values, \"r-\")\n",
    "plt.annotate(line_eq,(5,-2),fontsize = 15,color = \"red\")\n",
    "\n",
    "plt.savefig(\"lat_by_temp_north.png\")\n",
    "\n",
    "print(f\"This graph displays a strong negative correlation between latitude and maximum temperature in cities in the northern hemisphere indicating that the closer a city is to the equator, the warmer it is likely to be, r = {round(rvalue, 2)}, p = {round(pvalue, 3)}. This relationship explains 64% of the variance in the data.\")\n",
    "plt.show()"
   ]
  },
  {
   "cell_type": "markdown",
   "metadata": {},
   "source": [
    "####  Southern Hemisphere - Max Temp vs. Latitude Linear Regression"
   ]
  },
  {
   "cell_type": "code",
   "execution_count": 45,
   "metadata": {},
   "outputs": [
    {
     "name": "stdout",
     "output_type": "stream",
     "text": [
      "This graph displays a positive correlation between latitude and maximum temperature in cities in the southern hemisphere also indicating that the closer a city is to the equator, the warmer it is likely to be, r = 0.77, p = 0.0. This relationship explains 59% of the variance in the data.\n"
     ]
    },
    {
     "data": {
      "image/png": "[encoded data removed]",
      "text/plain": [
       "<Figure size 432x288 with 1 Axes>"
      ]
     },
     "metadata": {
      "needs_background": "light"
     },
     "output_type": "display_data"
    }
   ],
   "source": [
    "lat_south = list(south_hemisphere[\"Lat\"])\n",
    "temp_south = list(south_hemisphere[\"Temperature\"])\n",
    "\n",
    "\n",
    "plt.title(\"Temperature by Latitude (Southern Hemisphere) - 12/9/21\")\n",
    "plt.xlabel(\"Latitude\")\n",
    "plt.ylabel(\"Temperature (℃)\")\n",
    "\n",
    "\n",
    "(slope, intercept, rvalue, pvalue, stderr) = linregress(lat_south, temp_south)\n",
    "regress_values = pd.Series(lat_south) * slope + intercept\n",
    "line_eq = \"y = \" + str(round(slope,2)) + \"x + \" + str(round(intercept,2))\n",
    "plt.scatter(lat_south, temp_south, marker=\"o\", color=\"red\")\n",
    "plt.plot(lat_south, regress_values, \"r-\")\n",
    "plt.annotate(line_eq,(5,-2),fontsize = 15,color = \"red\")\n",
    "\n",
    "plt.savefig(\"lat_by_temp_south.png\")\n",
    "\n",
    "print(f\"This graph displays a positive correlation between latitude and maximum temperature in cities in the southern hemisphere also indicating that the closer a city is to the equator, the warmer it is likely to be, r = {round(rvalue, 2)}, p = {round(pvalue, 3)}. This relationship explains 59% of the variance in the data.\")\n",
    "plt.show()"
   ]
  },
  {
   "cell_type": "markdown",
   "metadata": {},
   "source": [
    "####  Northern Hemisphere - Humidity (%) vs. Latitude Linear Regression"
   ]
  },
  {
   "cell_type": "code",
   "execution_count": 46,
   "metadata": {},
   "outputs": [
    {
     "name": "stdout",
     "output_type": "stream",
     "text": [
      "This graph displays no significant relationship between latitude and humidity in cities in the northern hemisphere, r = 0.03, p = 0.526.\n"
     ]
    },
    {
     "data": {
      "image/png": "[encoded data removed]",
      "text/plain": [
       "<Figure size 432x288 with 1 Axes>"
      ]
     },
     "metadata": {
      "needs_background": "light"
     },
     "output_type": "display_data"
    }
   ],
   "source": [
    "lat_north = list(north_hemisphere[\"Lat\"])\n",
    "humidity_north = list(north_hemisphere[\"Humidity\"])\n",
    "\n",
    "\n",
    "plt.title(\"Humidity by Latitude (Northern Hemisphere) - 12/9/21\")\n",
    "plt.xlabel(\"Latitude\")\n",
    "plt.ylabel(\"Humidity (RH%)\")\n",
    "\n",
    "\n",
    "(slope, intercept, rvalue, pvalue, stderr) = linregress(lat_north, humidity_north)\n",
    "regress_values = pd.Series(lat_north) * slope + intercept\n",
    "line_eq = \"y = \" + str(round(slope,2)) + \"x + \" + str(round(intercept,2))\n",
    "plt.scatter(lat_north, humidity_north, marker=\"o\", color=\"red\")\n",
    "plt.plot(lat_north, regress_values, \"r-\")\n",
    "plt.annotate(line_eq,(5,-2),fontsize = 15,color = \"red\")\n",
    "\n",
    "plt.savefig(\"lat_by_humidity_north.png\")\n",
    "\n",
    "print(f\"This graph displays no significant relationship between latitude and humidity in cities in the northern hemisphere, r = {round(rvalue, 2)}, p = {round(pvalue, 3)}.\")\n",
    "plt.show()"
   ]
  },
  {
   "cell_type": "markdown",
   "metadata": {},
   "source": [
    "####  Southern Hemisphere - Humidity (%) vs. Latitude Linear Regression"
   ]
  },
  {
   "cell_type": "code",
   "execution_count": 47,
   "metadata": {},
   "outputs": [
    {
     "name": "stdout",
     "output_type": "stream",
     "text": [
      "This graph displays no significant relationship between latitude and humidity in cities in the southern hemisphere, r = 0.02, p = 0.797.\n"
     ]
    },
    {
     "data": {
      "image/png": "[encoded data removed]",
      "text/plain": [
       "<Figure size 432x288 with 1 Axes>"
      ]
     },
     "metadata": {
      "needs_background": "light"
     },
     "output_type": "display_data"
    }
   ],
   "source": [
    "lat_south = list(south_hemisphere[\"Lat\"])\n",
    "humidity_south = list(south_hemisphere[\"Humidity\"])\n",
    "\n",
    "\n",
    "plt.title(\"Humidity by Latitude (Southern Hemisphere) - 12/9/21\")\n",
    "plt.xlabel(\"Latitude\")\n",
    "plt.ylabel(\"Humidity (RH%)\")\n",
    "\n",
    "\n",
    "(slope, intercept, rvalue, pvalue, stderr) = linregress(lat_south, humidity_south)\n",
    "regress_values = pd.Series(lat_south) * slope + intercept\n",
    "line_eq = \"y = \" + str(round(slope,2)) + \"x + \" + str(round(intercept,2))\n",
    "plt.scatter(lat_south, humidity_south, marker=\"o\", color=\"red\")\n",
    "plt.plot(lat_south, regress_values, \"r-\")\n",
    "plt.annotate(line_eq,(5,-2),fontsize = 15,color = \"red\")\n",
    "\n",
    "plt.savefig(\"lat_by_humidity_south.png\")\n",
    "\n",
    "print(f\"This graph displays no significant relationship between latitude and humidity in cities in the southern hemisphere, r = {round(rvalue, 2)}, p = {round(pvalue, 3)}.\")\n",
    "plt.show()"
   ]
  },
  {
   "cell_type": "markdown",
   "metadata": {},
   "source": [
    "####  Northern Hemisphere - Cloudiness (%) vs. Latitude Linear Regression"
   ]
  },
  {
   "cell_type": "code",
   "execution_count": 48,
   "metadata": {},
   "outputs": [
    {
     "name": "stdout",
     "output_type": "stream",
     "text": [
      "This graph displays no significant relationship between latitude and cloudiness in cities in the northern hemisphere, r = 0.04, p = 0.38.\n"
     ]
    },
    {
     "data": {
      "image/png": "[encoded data removed]",
      "text/plain": [
       "<Figure size 432x288 with 1 Axes>"
      ]
     },
     "metadata": {
      "needs_background": "light"
     },
     "output_type": "display_data"
    }
   ],
   "source": [
    "lat_north = list(north_hemisphere[\"Lat\"])\n",
    "cloud_north = list(north_hemisphere[\"Cloudiness\"])\n",
    "\n",
    "\n",
    "plt.title(\"Cloudiness by Latitude (Northern Hemisphere) - 12/9/21\")\n",
    "plt.xlabel(\"Latitude\")\n",
    "plt.ylabel(\"Cloudiness (%)\")\n",
    "\n",
    "\n",
    "(slope, intercept, rvalue, pvalue, stderr) = linregress(lat_north, cloud_north)\n",
    "regress_values = pd.Series(lat_north) * slope + intercept\n",
    "line_eq = \"y = \" + str(round(slope,2)) + \"x + \" + str(round(intercept,2))\n",
    "plt.scatter(lat_north, cloud_north, marker=\"o\", color=\"red\")\n",
    "plt.plot(lat_north, regress_values, \"r-\")\n",
    "plt.annotate(line_eq,(5,-2),fontsize = 15,color = \"red\")\n",
    "\n",
    "plt.savefig(\"lat_by_cloudiness_north.png\")\n",
    "\n",
    "print(f\"This graph displays no significant relationship between latitude and cloudiness in cities in the northern hemisphere, r = {round(rvalue, 2)}, p = {round(pvalue, 3)}.\")\n",
    "plt.show()"
   ]
  },
  {
   "cell_type": "markdown",
   "metadata": {},
   "source": [
    "####  Southern Hemisphere - Cloudiness (%) vs. Latitude Linear Regression"
   ]
  },
  {
   "cell_type": "code",
   "execution_count": 49,
   "metadata": {},
   "outputs": [
    {
     "name": "stdout",
     "output_type": "stream",
     "text": [
      "This graph displays no significant relationship between latitude and cloudiness in cities in the northern hemisphere, r = 0.11, p = 0.133.\n"
     ]
    },
    {
     "data": {
      "image/png": "[encoded data removed]",
      "text/plain": [
       "<Figure size 432x288 with 1 Axes>"
      ]
     },
     "metadata": {
      "needs_background": "light"
     },
     "output_type": "display_data"
    }
   ],
   "source": [
    "lat_south = list(south_hemisphere[\"Lat\"])\n",
    "cloud_south = list(south_hemisphere[\"Cloudiness\"])\n",
    "\n",
    "\n",
    "plt.title(\"Cloudiness by Latitude (Southern Hemisphere) - 12/9/21\")\n",
    "plt.xlabel(\"Latitude\")\n",
    "plt.ylabel(\"Cloudiness (%)\")\n",
    "\n",
    "\n",
    "(slope, intercept, rvalue, pvalue, stderr) = linregress(lat_south, cloud_south)\n",
    "regress_values = pd.Series(lat_south) * slope + intercept\n",
    "line_eq = \"y = \" + str(round(slope,2)) + \"x + \" + str(round(intercept,2))\n",
    "plt.scatter(lat_south, cloud_south, marker=\"o\", color=\"red\")\n",
    "plt.plot(lat_south, regress_values, \"r-\")\n",
    "plt.annotate(line_eq,(5,-2),fontsize = 15,color = \"red\")\n",
    "\n",
    "plt.savefig(\"lat_by_cloudiness_south.png\")\n",
    "\n",
    "print(f\"This graph displays no significant relationship between latitude and cloudiness in cities in the northern hemisphere, r = {round(rvalue, 2)}, p = {round(pvalue, 3)}.\")\n",
    "plt.show()"
   ]
  },
  {
   "cell_type": "markdown",
   "metadata": {},
   "source": [
    "####  Northern Hemisphere - Wind Speed (mph) vs. Latitude Linear Regression"
   ]
  },
  {
   "cell_type": "code",
   "execution_count": 50,
   "metadata": {},
   "outputs": [
    {
     "name": "stdout",
     "output_type": "stream",
     "text": [
      "No correlation between wind speed and latitude was found in the northern hemisphere, r = -0.02, p = 0.659.\n"
     ]
    },
    {
     "data": {
      "image/png": "[encoded data removed]",
      "text/plain": [
       "<Figure size 432x288 with 1 Axes>"
      ]
     },
     "metadata": {
      "needs_background": "light"
     },
     "output_type": "display_data"
    }
   ],
   "source": [
    "lat_north = list(north_hemisphere[\"Lat\"])\n",
    "wind_north = list(north_hemisphere[\"Wind Speed\"])\n",
    "\n",
    "\n",
    "plt.title(\"Wind Speed by Latitude (Northern Hemisphere) - 12/9/21\")\n",
    "plt.xlabel(\"Latitude\")\n",
    "plt.ylabel(\"Wind Speed (km/h)\")\n",
    "\n",
    "\n",
    "(slope, intercept, rvalue, pvalue, stderr) = linregress(lat_north, wind_north)\n",
    "regress_values = pd.Series(lat_north) * slope + intercept\n",
    "line_eq = \"y = \" + str(round(slope,2)) + \"x + \" + str(round(intercept,2))\n",
    "plt.scatter(lat_north, wind_north, marker=\"o\", color=\"red\")\n",
    "plt.plot(lat_north, regress_values, \"r-\")\n",
    "plt.annotate(line_eq,(5,-2),fontsize = 15,color = \"red\")\n",
    "\n",
    "plt.savefig(\"lat_by_wind_north.png\")\n",
    "\n",
    "print(f\"No correlation between wind speed and latitude was found in the northern hemisphere, r = {round(rvalue, 2)}, p = {round(pvalue, 3)}.\")\n",
    "plt.show()"
   ]
  },
  {
   "cell_type": "markdown",
   "metadata": {},
   "source": [
    "####  Southern Hemisphere - Wind Speed (mph) vs. Latitude Linear Regression"
   ]
  },
  {
   "cell_type": "code",
   "execution_count": 53,
   "metadata": {},
   "outputs": [
    {
     "name": "stdout",
     "output_type": "stream",
     "text": [
      "This graph displays a weak negative correlation between latitude and wind speed in cities in the southern hemisphere indicating that being closer to the equator may increase wind speeds, r = -0.15, p = 0.04. However, this relationship only explains 2% of the variance in the data.\n"
     ]
    },
    {
     "data": {
      "image/png": "[encoded data removed]",
      "text/plain": [
       "<Figure size 432x288 with 1 Axes>"
      ]
     },
     "metadata": {
      "needs_background": "light"
     },
     "output_type": "display_data"
    }
   ],
   "source": [
    "lat_south = list(south_hemisphere[\"Lat\"])\n",
    "wind_south = list(south_hemisphere[\"Wind Speed\"])\n",
    "\n",
    "\n",
    "plt.title(\"Wind Speed by Latitude (Southern Hemisphere) - 12/9/21\")\n",
    "plt.xlabel(\"Latitude\")\n",
    "plt.ylabel(\"Wind Speed (km/h)\")\n",
    "\n",
    "\n",
    "(slope, intercept, rvalue, pvalue, stderr) = linregress(lat_south, wind_south)\n",
    "regress_values = pd.Series(lat_south) * slope + intercept\n",
    "line_eq = \"y = \" + str(round(slope,2)) + \"x + \" + str(round(intercept,2))\n",
    "plt.scatter(lat_south, wind_south, marker=\"o\", color=\"red\")\n",
    "plt.plot(lat_south, regress_values, \"r-\")\n",
    "plt.annotate(line_eq,(5,-2),fontsize = 15,color = \"red\")\n",
    "\n",
    "plt.savefig(\"lat_by_wind_south.png\")\n",
    "\n",
    "print(f\"This graph displays a weak negative correlation between latitude and wind speed in cities in the southern hemisphere indicating that being closer to the equator may increase wind speeds, r = {round(rvalue, 2)}, p = {round(pvalue, 3)}. However, this relationship only explains 2% of the variance in the data.\")\n",
    "plt.show()"
   ]
  },
  {
   "cell_type": "code",
   "execution_count": 54,
   "metadata": {},
   "outputs": [
    {
     "name": "stdout",
     "output_type": "stream",
     "text": [
      "Conclusions: \n",
      " \n",
      "1. Cities closer to the equator tend to reach higher max temperatures in both the southern and northern hemisphere.  \n",
      "2. The latitude of a city has no effect on the cloudiness or humidity.  \n",
      "3. Wind speed is possibly be related with closeness to the equator however, due to only the southern hemisphere providing a weak correlation, further investigation is required to better understand the factors effecting wind speeds.\n"
     ]
    }
   ],
   "source": [
    "print(f\"Conclusions: \\n \\n1. Cities closer to the equator tend to reach higher max temperatures in both the southern and northern hemisphere.  \\n2. The latitude of a city has no effect on the cloudiness or humidity.  \\n3. Wind speed is possibly be related with closeness to the equator however, due to only the southern hemisphere providing a weak correlation, further investigation is required to better understand the factors effecting wind speeds.\")"
   ]
  },
  {
   "cell_type": "code",
   "execution_count": null,
   "metadata": {},
   "outputs": [],
   "source": []
  }
 ],
 "metadata": {
  "anaconda-cloud": {},
  "kernel_info": {
   "name": "python3"
  },
  "kernelspec": {
   "display_name": "Python 3",
   "language": "python",
   "name": "python3"
  },
  "language_info": {
   "codemirror_mode": {
    "name": "ipython",
    "version": 3
   },
   "file_extension": ".py",
   "mimetype": "text/x-python",
   "name": "python",
   "nbconvert_exporter": "python",
   "pygments_lexer": "ipython3",
   "version": "3.8.8"
  },
  "latex_envs": {
   "LaTeX_envs_menu_present": true,
   "autoclose": false,
   "autocomplete": true,
   "bibliofile": "biblio.bib",
   "cite_by": "apalike",
   "current_citInitial": 1,
   "eqLabelWithNumbers": true,
   "eqNumInitial": 1,
   "hotkeys": {
    "equation": "Ctrl-E",
    "itemize": "Ctrl-I"
   },
   "labels_anchors": false,
   "latex_user_defs": false,
   "report_style_numbering": false,
   "user_envs_cfg": false
  },
  "nteract": {
   "version": "0.12.3"
  }
 },
 "nbformat": 4,
 "nbformat_minor": 2
}
